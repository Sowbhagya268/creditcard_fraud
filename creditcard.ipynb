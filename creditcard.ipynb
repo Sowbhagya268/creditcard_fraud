{
 "cells": [
  {
   "cell_type": "code",
   "execution_count": 70,
   "id": "developed-publisher",
   "metadata": {},
   "outputs": [],
   "source": [
    "import pandas as pd\n",
    "import numpy as np\n"
   ]
  },
  {
   "cell_type": "code",
   "execution_count": 101,
   "id": "boxed-fourth",
   "metadata": {},
   "outputs": [],
   "source": [
    "data = pd.read_csv(\"creditcard.csv\")"
   ]
  },
  {
   "cell_type": "markdown",
   "id": "unusual-badge",
   "metadata": {},
   "source": [
    "# Data Preprocessing"
   ]
  },
  {
   "cell_type": "code",
   "execution_count": 102,
   "id": "raised-train",
   "metadata": {},
   "outputs": [],
   "source": [
    "from sklearn.preprocessing import StandardScaler\n",
    "data[\"normalized_amount\"] = StandardScaler().fit_transform(data[\"Amount\"].values.reshape(-1,1))\n",
    "\n",
    "data = data.drop(columns = [\"Amount\"])\n",
    "\n",
    "data = data.drop(columns = [\"Time\"])\n",
    "#print(data.head())\n"
   ]
  },
  {
   "cell_type": "code",
   "execution_count": 103,
   "id": "british-tobago",
   "metadata": {},
   "outputs": [],
   "source": [
    "x = data.iloc[:, data.columns != \"Class\"]\n",
    "y = data.iloc[:, data.columns == \"Class\"]\n",
    "#print(x.head())\n",
    "#print(y.head())"
   ]
  },
  {
   "cell_type": "code",
   "execution_count": 99,
   "id": "biblical-emphasis",
   "metadata": {},
   "outputs": [
    {
     "name": "stdout",
     "output_type": "stream",
     "text": [
      "fraudulent =  492\n",
      "non_fradulent =  284315\n",
      "%fraudulent =  0.17\n",
      "%non_fradulent =  99.83\n"
     ]
    }
   ],
   "source": [
    "fraud = y.loc[y[\"Class\"] == 1]\n",
    "non_fraud = y.loc[y[\"Class\"] == 0]\n",
    "print(\"fraudulent = \", len(fraud))\n",
    "print(\"non_fradulent = \", len(non_fraud))\n",
    "print(\"%fraudulent = \", round(len(fraud)*100/len(y),2))\n",
    "print(\"%non_fradulent = \", round(len(non_fraud)*100/len(y),2))"
   ]
  },
  {
   "cell_type": "markdown",
   "id": "brilliant-carroll",
   "metadata": {},
   "source": [
    "# Under Sampling"
   ]
  },
  {
   "cell_type": "code",
   "execution_count": 127,
   "id": "rubber-avatar",
   "metadata": {},
   "outputs": [
    {
     "name": "stdout",
     "output_type": "stream",
     "text": [
      "random_normal_indices =  492\n",
      "fraud_indices =  492\n"
     ]
    }
   ],
   "source": [
    "normal_indices = data[data.Class == 0].index\n",
    "fraud_indices = np.array(data[data.Class == 1].index)\n",
    "random_normal_indices = np.random.choice(normal_indices, len(fraud), replace = False)\n",
    "random_normal_indices = np.array(random_normal_indices)\n",
    "print(\"random_normal_indices = \", len(random_normal_indices))\n",
    "print(\"fraud_indices = \", len(fraud_indices))\n",
    "\n",
    "undersample_indices = np.concatenate([fraud_indices,random_normal_indices])\n",
    "undersample = data.iloc[undersample_indices,:]\n",
    "\n",
    "x_under = undersample.iloc[:, undersample.columns != \"Class\"]\n",
    "y_under = undersample.iloc[:, undersample.columns == \"Class\"]\n",
    " "
   ]
  },
  {
   "cell_type": "markdown",
   "id": "express-mixer",
   "metadata": {},
   "source": [
    "# Over Sampling (SMOTE)"
   ]
  },
  {
   "cell_type": "code",
   "execution_count": 133,
   "id": "resistant-perth",
   "metadata": {},
   "outputs": [
    {
     "name": "stdout",
     "output_type": "stream",
     "text": [
      "568630\n"
     ]
    }
   ],
   "source": [
    "from imblearn.over_sampling import SMOTE\n",
    "x_oversample, y_oversample = SMOTE().fit_resample(x, y.values.ravel())\n",
    "x_oversample = pd.DataFrame(x_oversample)\n",
    "y_oversample = pd.DataFrame(y_oversample)\n",
    "\n",
    "print(len(x_oversample))"
   ]
  },
  {
   "cell_type": "markdown",
   "id": "blind-blocking",
   "metadata": {},
   "source": [
    "# Splitting Data"
   ]
  },
  {
   "cell_type": "code",
   "execution_count": 135,
   "id": "brilliant-confirmation",
   "metadata": {},
   "outputs": [],
   "source": [
    "from sklearn.model_selection import train_test_split\n",
    "\n",
    "x_train, x_test, y_train, y_test = train_test_split(x, y, test_size = 0.3, random_state = 0)\n",
    "x_under_train, x_under_test, y_under_train, y_under_test = train_test_split(x_under, y_under, test_size = 0.3, random_state = 0)\n",
    "x_over_train, x_over_test, y_over_train, y_over_test = train_test_split(x_oversample, y_oversample, test_size = 0.3, random_state = 0)\n",
    "\n",
    "x_over_train = np.array(x_over_train)\n",
    "x_over_test = np.array(x_over_test)\n",
    "y_over_train = np.array(y_over_train)\n",
    "x_over_test = np.array(x_over_test)"
   ]
  },
  {
   "cell_type": "markdown",
   "id": "mysterious-lending",
   "metadata": {},
   "source": [
    "# Confusion Matrix"
   ]
  },
  {
   "cell_type": "code",
   "execution_count": 80,
   "id": "beneficial-accommodation",
   "metadata": {},
   "outputs": [],
   "source": [
    "import matplotlib.pyplot as plt\n",
    "import itertools\n",
    "\n",
    "from sklearn import svm, datasets\n",
    "from sklearn.metrics import confusion_matrix\n",
    "\n",
    "\n",
    "def plot_confusion_matrix(cm, classes, normalize=False, title=\"Confusion Matrix\", cmap=plt.cm.Blues):\n",
    "    \n",
    "    if normalize:\n",
    "        cm = cm.astype('float') / cm.sum(axis=1)[:, np.newaxis]\n",
    "        print(\"Normalized confusion matrix\")\n",
    "    else:\n",
    "        print('Confusion matrix, without normalization')\n",
    "\n",
    "    plt.imshow(cm, interpolation='nearest', cmap=cmap)\n",
    "    plt.title(title)\n",
    "    plt.colorbar()\n",
    "    tick_marks = np.arange(len(classes))\n",
    "    plt.xticks(tick_marks, classes, rotation = 45)\n",
    "    plt.yticks(tick_marks, classes)\n",
    "\n",
    "    fmt = '.2f' if normalize else 'd'\n",
    "    thresh = cm.max() / 2.\n",
    "    for i, j in itertools.product(range(cm.shape[0]), range(cm.shape[1])) :\n",
    "        plt.text(j, i, format(cm[i, j], fmt),\n",
    "            ha=\"center\", va=\"center\",\n",
    "            color=\"white\" if cm[i, j] > thresh else \"black\")\n",
    "            \n",
    "    plt.xlabel(\"Predicted Values\")\n",
    "    plt.ylabel(\"True Values\")\n",
    "    plt.tight_layout()"
   ]
  },
  {
   "cell_type": "markdown",
   "id": "adverse-lease",
   "metadata": {},
   "source": [
    "# Random Forest"
   ]
  },
  {
   "cell_type": "code",
   "execution_count": 78,
   "id": "cubic-birmingham",
   "metadata": {},
   "outputs": [],
   "source": [
    "from sklearn.ensemble import RandomForestClassifier\n",
    "randomforest = RandomForestClassifier(n_estimators = 100)\n",
    "randomforest.fit(x_train,y_train.values.ravel())\n",
    "y_pred = randomforest.predict(x_test)\n"
   ]
  },
  {
   "cell_type": "code",
   "execution_count": 123,
   "id": "upset-tourism",
   "metadata": {},
   "outputs": [
    {
     "name": "stdout",
     "output_type": "stream",
     "text": [
      "Accuracy =  0.9995084442259752\n"
     ]
    }
   ],
   "source": [
    "y_score = randomforest.score(x_test,y_test)\n",
    "print(\"Accuracy = \", y_score)"
   ]
  },
  {
   "cell_type": "code",
   "execution_count": 81,
   "id": "flush-privilege",
   "metadata": {},
   "outputs": [
    {
     "name": "stdout",
     "output_type": "stream",
     "text": [
      "Confusion matrix, without normalization\n"
     ]
    },
    {
     "data": {
      "image/png": "[encoded data removed]",
      "text/plain": [
       "<Figure size 432x288 with 2 Axes>"
      ]
     },
     "metadata": {
      "needs_background": "light"
     },
     "output_type": "display_data"
    }
   ],
   "source": [
    "cnf_matrix = confusion_matrix(y_test, y_pred)\n",
    "plot_confusion_matrix(cnf_matrix, classes=[0,1])"
   ]
  },
  {
   "cell_type": "markdown",
   "id": "answering-annex",
   "metadata": {},
   "source": [
    "# Random Forest (Under Sampling)"
   ]
  },
  {
   "cell_type": "code",
   "execution_count": 115,
   "id": "theoretical-massage",
   "metadata": {},
   "outputs": [],
   "source": [
    "random_forest_under = RandomForestClassifier(n_estimators=100)\n",
    "random_forest_under.fit(x_under_train, y_under_train.values.ravel())\n",
    "y_pred_under = random_forest_under.predict(x_under_test)\n"
   ]
  },
  {
   "cell_type": "code",
   "execution_count": 124,
   "id": "iraqi-remark",
   "metadata": {},
   "outputs": [
    {
     "name": "stdout",
     "output_type": "stream",
     "text": [
      "Accuracy =  0.956081081081081\n"
     ]
    }
   ],
   "source": [
    "y_pred_under_score = random_forest_under.score(x_under_test, y_under_test)\n",
    "print(\"Accuracy = \", y_pred_under_score)"
   ]
  },
  {
   "cell_type": "code",
   "execution_count": 119,
   "id": "sharp-campbell",
   "metadata": {},
   "outputs": [
    {
     "name": "stdout",
     "output_type": "stream",
     "text": [
      "Confusion matrix, without normalization\n"
     ]
    },
    {
     "data": {
      "image/png": "[encoded data removed]",
      "text/plain": [
       "<Figure size 432x288 with 2 Axes>"
      ]
     },
     "metadata": {
      "needs_background": "light"
     },
     "output_type": "display_data"
    }
   ],
   "source": [
    "cnf_matrix_under = confusion_matrix(y_under_test, y_pred_under)\n",
    "plot_confusion_matrix(cnf_matrix_under, classes=[0,1])"
   ]
  },
  {
   "cell_type": "markdown",
   "id": "naked-serve",
   "metadata": {},
   "source": [
    "# Random Forest (Over Sampling)"
   ]
  },
  {
   "cell_type": "code",
   "execution_count": 138,
   "id": "characteristic-cream",
   "metadata": {},
   "outputs": [],
   "source": [
    "random_forest_over = RandomForestClassifier(n_estimators = 100)\n",
    "random_forest_over.fit(x_over_train, y_over_train.ravel())\n",
    "y_pred_over = random_forest_over.predict(x_over_test)\n"
   ]
  },
  {
   "cell_type": "code",
   "execution_count": 139,
   "id": "changing-society",
   "metadata": {},
   "outputs": [
    {
     "name": "stdout",
     "output_type": "stream",
     "text": [
      "Accuracy =  0.9998827591462521\n"
     ]
    }
   ],
   "source": [
    "y_pred_over_score = random_forest_over.score(x_over_test, y_over_test)\n",
    "print(\"Accuracy = \", y_pred_over_score)"
   ]
  },
  {
   "cell_type": "code",
   "execution_count": 140,
   "id": "arctic-decision",
   "metadata": {},
   "outputs": [
    {
     "name": "stdout",
     "output_type": "stream",
     "text": [
      "Confusion matrix, without normalization\n"
     ]
    },
    {
     "data": {
      "image/png": "[encoded data removed]",
      "text/plain": [
       "<Figure size 432x288 with 2 Axes>"
      ]
     },
     "metadata": {
      "needs_background": "light"
     },
     "output_type": "display_data"
    }
   ],
   "source": [
    "cnf_matrix_over = confusion_matrix(y_over_test, y_pred_over)\n",
    "plot_confusion_matrix(cnf_matrix_over, classes=[0,1])"
   ]
  },
  {
   "cell_type": "markdown",
   "id": "fancy-subdivision",
   "metadata": {},
   "source": [
    "# Decision Tree"
   ]
  },
  {
   "cell_type": "code",
   "execution_count": 82,
   "id": "private-warehouse",
   "metadata": {},
   "outputs": [],
   "source": [
    "from sklearn.tree import DecisionTreeClassifier\n",
    "dec_tree = DecisionTreeClassifier()\n",
    "dec_tree.fit(x_train,y_train.values.ravel())\n",
    "y_dectree_true = dec_tree.predict(x_test)\n"
   ]
  },
  {
   "cell_type": "code",
   "execution_count": 125,
   "id": "herbal-kelly",
   "metadata": {},
   "outputs": [
    {
     "name": "stdout",
     "output_type": "stream",
     "text": [
      "Accuracy =  0.9992860737567735\n"
     ]
    }
   ],
   "source": [
    "y_dectree_score = dec_tree.score(x_test,y_test)\n",
    "print(\"Accuracy = \", y_dectree_score)"
   ]
  },
  {
   "cell_type": "code",
   "execution_count": 85,
   "id": "contemporary-burns",
   "metadata": {},
   "outputs": [
    {
     "name": "stdout",
     "output_type": "stream",
     "text": [
      "Confusion matrix, without normalization\n"
     ]
    },
    {
     "data": {
      "image/png": "[encoded data removed]",
      "text/plain": [
       "<Figure size 432x288 with 2 Axes>"
      ]
     },
     "metadata": {
      "needs_background": "light"
     },
     "output_type": "display_data"
    }
   ],
   "source": [
    "cnf_matrix_dt = confusion_matrix(y_test, y_dectree_true)\n",
    "plot_confusion_matrix(cnf_matrix_dt, classes=[0,1])"
   ]
  },
  {
   "cell_type": "markdown",
   "id": "interpreted-dayton",
   "metadata": {},
   "source": [
    "# Decision Tree (Over Sampling)"
   ]
  },
  {
   "cell_type": "code",
   "execution_count": 142,
   "id": "documented-exploration",
   "metadata": {},
   "outputs": [],
   "source": [
    "dec_tree_over = DecisionTreeClassifier()\n",
    "dec_tree_over.fit(x_over_train, y_over_train.ravel())\n",
    "y_pred_dectree_over = dec_tree_over.predict(x_over_test)"
   ]
  },
  {
   "cell_type": "code",
   "execution_count": 143,
   "id": "outstanding-debut",
   "metadata": {},
   "outputs": [
    {
     "name": "stdout",
     "output_type": "stream",
     "text": [
      "Accuracy =  0.9978779405471631\n"
     ]
    }
   ],
   "source": [
    "y_dectree_over_score = dec_tree_over.score(x_over_test, y_over_test)\n",
    "print(\"Accuracy = \", y_dectree_over_score)"
   ]
  },
  {
   "cell_type": "code",
   "execution_count": 144,
   "id": "combined-indonesian",
   "metadata": {},
   "outputs": [
    {
     "name": "stdout",
     "output_type": "stream",
     "text": [
      "Confusion matrix, without normalization\n"
     ]
    },
    {
     "data": {
      "image/png": "[encoded data removed]",
      "text/plain": [
       "<Figure size 432x288 with 2 Axes>"
      ]
     },
     "metadata": {
      "needs_background": "light"
     },
     "output_type": "display_data"
    }
   ],
   "source": [
    "cnf_matrix_dectree_over = confusion_matrix(y_over_test, y_pred_dectree_over)\n",
    "plot_confusion_matrix(cnf_matrix_dectree_over, classes=[0,1])"
   ]
  },
  {
   "cell_type": "markdown",
   "id": "disturbed-inside",
   "metadata": {},
   "source": [
    "# XG Boost (Over Sampling)"
   ]
  },
  {
   "cell_type": "code",
   "execution_count": 154,
   "id": "racial-quest",
   "metadata": {},
   "outputs": [
    {
     "name": "stdout",
     "output_type": "stream",
     "text": [
      "[10:12:48] WARNING: /Users/travis/build/dmlc/xgboost/src/learner.cc:1095: Starting in XGBoost 1.3.0, the default evaluation metric used with the objective 'binary:logistic' was changed from 'error' to 'logloss'. Explicitly set eval_metric if you'd like to restore the old behavior.\n"
     ]
    }
   ],
   "source": [
    "from xgboost import XGBClassifier\n",
    "xgb_over = XGBClassifier(use_label_encoder=False)\n",
    "xgb_over.fit(x_over_train, y_over_train.ravel())\n",
    "y_pred_xgb_over = xgb_over.predict(x_over_test)"
   ]
  },
  {
   "cell_type": "code",
   "execution_count": 156,
   "id": "convertible-england",
   "metadata": {},
   "outputs": [
    {
     "name": "stdout",
     "output_type": "stream",
     "text": [
      "0.9997362080790673\n"
     ]
    }
   ],
   "source": [
    "xgb_over_score = xgb_over.score(x_over_test, y_over_test)\n",
    "print(\"Accuracy = \", xgb_over_score)"
   ]
  },
  {
   "cell_type": "code",
   "execution_count": 157,
   "id": "according-parade",
   "metadata": {},
   "outputs": [
    {
     "name": "stdout",
     "output_type": "stream",
     "text": [
      "Confusion matrix, without normalization\n"
     ]
    },
    {
     "data": {
      "image/png": "[encoded data removed]",
      "text/plain": [
       "<Figure size 432x288 with 2 Axes>"
      ]
     },
     "metadata": {
      "needs_background": "light"
     },
     "output_type": "display_data"
    }
   ],
   "source": [
    "cnf_matrix_xgb_over = confusion_matrix(y_over_test, y_pred_xgb_over)\n",
    "plot_confusion_matrix(cnf_matrix_xgb_over, classes=[0,1])"
   ]
  },
  {
   "cell_type": "code",
   "execution_count": null,
   "id": "outstanding-graduate",
   "metadata": {},
   "outputs": [],
   "source": []
  }
 ],
 "metadata": {
  "kernelspec": {
   "display_name": "Python 3",
   "language": "python",
   "name": "python3"
  },
  "language_info": {
   "codemirror_mode": {
    "name": "ipython",
    "version": 3
   },
   "file_extension": ".py",
   "mimetype": "text/x-python",
   "name": "python",
   "nbconvert_exporter": "python",
   "pygments_lexer": "ipython3",
   "version": "3.8.8"
  }
 },
 "nbformat": 4,
 "nbformat_minor": 5
}
